{
 "cells": [
  {
   "cell_type": "markdown",
   "metadata": {},
   "source": [
    "http://www.iseesystems.com/solutions/systems-in-focus.aspx\n",
    "\n",
    "<img src=\"http://www.iseesystems.com/images/solutions/energy-lg.jpg\">"
   ]
  },
  {
   "cell_type": "code",
   "execution_count": 2,
   "metadata": {
    "collapsed": false
   },
   "outputs": [],
   "source": [
    "fname='SiF-energy.stmx'\n",
    "from webutils import Soup"
   ]
  },
  {
   "cell_type": "code",
   "execution_count": 3,
   "metadata": {
    "collapsed": true
   },
   "outputs": [],
   "source": [
    "text=Soup(fname)"
   ]
  },
  {
   "cell_type": "code",
   "execution_count": 26,
   "metadata": {
    "collapsed": false
   },
   "outputs": [
    {
     "name": "stdout",
     "output_type": "stream",
     "text": [
      "Coal_Generation_Capacity\n",
      "Natural_Gas_Generation_Capacity\n",
      "Nuclear_Generation_Capacity\n",
      "Renewables_Generation_Capacity\n",
      "Hydro_Generation_Capacity\n",
      "Other_Generation_Capacity\n"
     ]
    }
   ],
   "source": [
    "stocks=text('stock')\n",
    "for stock in stocks:\n",
    "    name=stock.get('name')\n",
    "    if name:\n",
    "        name=name.replace('\\\\n','_')\n",
    "        print name"
   ]
  },
  {
   "cell_type": "code",
   "execution_count": 31,
   "metadata": {
    "collapsed": false
   },
   "outputs": [
    {
     "name": "stdout",
     "output_type": "stream",
     "text": [
      "<stock name=\"Coal_Generation\\nCapacity\">\n",
      "<eqn>3845 {million}</eqn>\n",
      "<inflow>developing_coal</inflow>\n",
      "<outflow>converting_to_natural_gas</outflow>\n",
      "<outflow>retiring_coal</outflow>\n",
      "<non_negative>\n",
      "<units>kilowatt hours per day</units>\n",
      "<display x=\"261\" y=\"68.6667\">\n",
      "</display></non_negative></stock>\n"
     ]
    }
   ],
   "source": [
    "stock=stocks[0]\n",
    "print stock"
   ]
  },
  {
   "cell_type": "code",
   "execution_count": 32,
   "metadata": {
    "collapsed": false
   },
   "outputs": [
    {
     "data": {
      "text/plain": [
       "u'Coal_Generation\\\\nCapacity'"
      ]
     },
     "execution_count": 32,
     "metadata": {},
     "output_type": "execute_result"
    }
   ],
   "source": [
    "stock.get('name')"
   ]
  },
  {
   "cell_type": "code",
   "execution_count": 38,
   "metadata": {
    "collapsed": false
   },
   "outputs": [
    {
     "data": {
      "text/plain": [
       "u'3845 {million}'"
      ]
     },
     "execution_count": 38,
     "metadata": {},
     "output_type": "execute_result"
    }
   ],
   "source": [
    "stock('eqn')[0].contents[0]"
   ]
  },
  {
   "cell_type": "code",
   "execution_count": null,
   "metadata": {
    "collapsed": true
   },
   "outputs": [],
   "source": []
  }
 ],
 "metadata": {
  "kernelspec": {
   "display_name": "Python 2",
   "language": "python",
   "name": "python2"
  },
  "language_info": {
   "codemirror_mode": {
    "name": "ipython",
    "version": 2
   },
   "file_extension": ".py",
   "mimetype": "text/x-python",
   "name": "python",
   "nbconvert_exporter": "python",
   "pygments_lexer": "ipython2",
   "version": "2.7.11"
  }
 },
 "nbformat": 4,
 "nbformat_minor": 0
}
